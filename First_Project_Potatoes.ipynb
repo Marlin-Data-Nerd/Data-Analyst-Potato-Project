{
  "nbformat": 4,
  "nbformat_minor": 0,
  "metadata": {
    "colab": {
      "provenance": [],
      "collapsed_sections": [
        "R83TklfUMYic",
        "70TJFcbaMfFt",
        "A80o6_6_TMvw",
        "zowMSqTYTRfZ",
        "71TZyCf9mHwK",
        "zRySBs8yCEYi"
      ],
      "authorship_tag": "ABX9TyOz05S/QHGnwFGnUouKKFYS"
    },
    "kernelspec": {
      "name": "python3",
      "display_name": "Python 3"
    },
    "language_info": {
      "name": "python"
    }
  },
  "cells": [
    {
      "cell_type": "markdown",
      "source": [
        "---\n",
        "#Denmark vs Germany\n",
        "\n",
        "---\n",
        "\n",
        "###Which nation is more potato?"
      ],
      "metadata": {
        "id": "7Q5oLjeD-AiK"
      }
    },
    {
      "cell_type": "markdown",
      "source": [
        "##Goal\n",
        "This analysis aims to determine which nation consumes more potatoes now and has done so historically. As well as compare the amount of land used for growing potatoes for human consumption in comparison to the countries overall size."
      ],
      "metadata": {
        "id": "kiKNWGps-cat"
      }
    },
    {
      "cell_type": "markdown",
      "source": [
        "The data sets are obtained from the statistic institutes of the respective countries.\n",
        "* Denmark - [Danmarks Statistik](https://www.dst.dk/en/)\n",
        "* Germany - [Statistisches Bundesamt](https://www.destatis.de/DE/Home/_inhalt.html)\n",
        "* Germany - [Bundesinformationszentrum Landwirtschaft](https://www.ble.de/DE/BZL/Daten-Berichte/Kartoffeln/Kartoffeln_node.html;jsessionid=8681CD395D259B8E611E3A6D6203DCF7.internet011)"
      ],
      "metadata": {
        "id": "Spwt8jD0_DYi"
      }
    },
    {
      "cell_type": "markdown",
      "source": [
        "##Results"
      ],
      "metadata": {
        "id": "mpQZls7yBMKo"
      }
    },
    {
      "cell_type": "markdown",
      "source": [
        "According to the consumption per person and the agricultural use of land for growing potatoes, Germany is the chunkier potato nation.<br>\n",
        "With 57,9 kg per head per year Germans consumed 17,9 kg of potatoes more than Danes with their 40 kg in 2010.<br>\n",
        "0,74 % of Germanys total area in 2022 was used for growing potatoes for human consumption, while only 0,16 % of Denmarks land was used for that purpose."
      ],
      "metadata": {
        "id": "OOfRNpttDJjZ"
      }
    },
    {
      "cell_type": "markdown",
      "source": [
        "##Outlook"
      ],
      "metadata": {
        "id": "bouHR_uQ0Yrr"
      }
    },
    {
      "cell_type": "markdown",
      "source": [
        "Further analysis could examin the export/import ratio, the different varities grown on fields or the percentage of a household's budget used for the starchy root vegetable. As well as look at the cultural significance with the amount of different potato dishes each country has on their menu."
      ],
      "metadata": {
        "id": "If8oLfq40ceU"
      }
    },
    {
      "cell_type": "markdown",
      "source": [
        "---\n",
        "#Analysis\n",
        "\n",
        "---"
      ],
      "metadata": {
        "id": "ZRf--MoPDK-Q"
      }
    },
    {
      "cell_type": "code",
      "source": [
        "# import libraries\n",
        "import pandas as pd\n",
        "import numpy as np"
      ],
      "metadata": {
        "id": "v61v4ugBDSQz"
      },
      "execution_count": 3,
      "outputs": []
    },
    {
      "cell_type": "code",
      "source": [
        "# to use downloaded and in Google Drive uploaded tables\n",
        "# allow access to all Google Drive content\n",
        "from google.colab import drive\n",
        "drive.mount('/content/drive')"
      ],
      "metadata": {
        "colab": {
          "base_uri": "https://localhost:8080/"
        },
        "id": "q9pR2RqEDa9A",
        "outputId": "e10c98e2-8101-4f5f-e439-ee145b709fba"
      },
      "execution_count": 4,
      "outputs": [
        {
          "output_type": "stream",
          "name": "stdout",
          "text": [
            "Drive already mounted at /content/drive; to attempt to forcibly remount, call drive.mount(\"/content/drive\", force_remount=True).\n"
          ]
        }
      ]
    },
    {
      "cell_type": "markdown",
      "source": [
        "##Cleaning data"
      ],
      "metadata": {
        "id": "uPfNrda1Ddgg"
      }
    },
    {
      "cell_type": "markdown",
      "source": [
        "###Denmark"
      ],
      "metadata": {
        "id": "DSmP7WtFZtD4"
      }
    },
    {
      "cell_type": "markdown",
      "source": [
        "#### Agriculture"
      ],
      "metadata": {
        "id": "R83TklfUMYic"
      }
    },
    {
      "cell_type": "code",
      "source": [
        "dk_crops = pd.read_csv('/content/drive/MyDrive/Data-Analyst/Colab-Notebooks/potatoes-data/stat-dk_potato_crops-by-unit-area-time.csv', header=1)"
      ],
      "metadata": {
        "id": "vR3Nji4uEUsV"
      },
      "execution_count": 5,
      "outputs": []
    },
    {
      "cell_type": "code",
      "source": [
        "dk_crops.head()"
      ],
      "metadata": {
        "colab": {
          "base_uri": "https://localhost:8080/",
          "height": 236
        },
        "id": "ZQc-eFrdGi7n",
        "outputId": "09d47d05-b1ce-4f6c-860b-e9fbefcf4d63"
      },
      "execution_count": 6,
      "outputs": [
        {
          "output_type": "execute_result",
          "data": {
            "text/plain": [
              "                              .1                       .2  1982  1983  1984  \\\n",
              "0  Farms (numbers)           NaN                      NaN   NaN   NaN   NaN   \n",
              "1                   3.1 Potatoes                      NaN   NaN   NaN   NaN   \n",
              "2                                                   Total  9924  8517  8087   \n",
              "3                                 Less than 10.0 hectares  1935  1593  1313   \n",
              "4                                    10.0 - 19.9 hectares  2572  2169  1962   \n",
              "\n",
              "   1985  1986  1987    1988  ...  2013  2014  2015  2016  2017  2018  2019  \\\n",
              "0   NaN   NaN   NaN     NaN  ...   NaN   NaN   NaN   NaN   NaN   NaN   NaN   \n",
              "1   NaN   NaN   NaN     NaN  ...   NaN   NaN   NaN   NaN   NaN   NaN   NaN   \n",
              "2  7482  6421  6085  6006.0  ...  1929  1857  1469  1680  1754  1634  1612   \n",
              "3  1249   962   904   983.0  ...   289   159   120   175   232   189   153   \n",
              "4  1709  1464  1290  1286.0  ...   224   243   103   174   127   109   157   \n",
              "\n",
              "   2020  2021  2022  \n",
              "0   NaN   NaN   NaN  \n",
              "1   NaN   NaN   NaN  \n",
              "2  1694  1596  1489  \n",
              "3   152   149   152  \n",
              "4   142   122   120  \n",
              "\n",
              "[5 rows x 44 columns]"
            ],
            "text/html": [
              "\n",
              "  <div id=\"df-cbd68344-4852-49b2-956a-e7694d9710e5\" class=\"colab-df-container\">\n",
              "    <div>\n",
              "<style scoped>\n",
              "    .dataframe tbody tr th:only-of-type {\n",
              "        vertical-align: middle;\n",
              "    }\n",
              "\n",
              "    .dataframe tbody tr th {\n",
              "        vertical-align: top;\n",
              "    }\n",
              "\n",
              "    .dataframe thead th {\n",
              "        text-align: right;\n",
              "    }\n",
              "</style>\n",
              "<table border=\"1\" class=\"dataframe\">\n",
              "  <thead>\n",
              "    <tr style=\"text-align: right;\">\n",
              "      <th></th>\n",
              "      <th></th>\n",
              "      <th>.1</th>\n",
              "      <th>.2</th>\n",
              "      <th>1982</th>\n",
              "      <th>1983</th>\n",
              "      <th>1984</th>\n",
              "      <th>1985</th>\n",
              "      <th>1986</th>\n",
              "      <th>1987</th>\n",
              "      <th>1988</th>\n",
              "      <th>...</th>\n",
              "      <th>2013</th>\n",
              "      <th>2014</th>\n",
              "      <th>2015</th>\n",
              "      <th>2016</th>\n",
              "      <th>2017</th>\n",
              "      <th>2018</th>\n",
              "      <th>2019</th>\n",
              "      <th>2020</th>\n",
              "      <th>2021</th>\n",
              "      <th>2022</th>\n",
              "    </tr>\n",
              "  </thead>\n",
              "  <tbody>\n",
              "    <tr>\n",
              "      <th>0</th>\n",
              "      <td>Farms (numbers)</td>\n",
              "      <td>NaN</td>\n",
              "      <td>NaN</td>\n",
              "      <td>NaN</td>\n",
              "      <td>NaN</td>\n",
              "      <td>NaN</td>\n",
              "      <td>NaN</td>\n",
              "      <td>NaN</td>\n",
              "      <td>NaN</td>\n",
              "      <td>NaN</td>\n",
              "      <td>...</td>\n",
              "      <td>NaN</td>\n",
              "      <td>NaN</td>\n",
              "      <td>NaN</td>\n",
              "      <td>NaN</td>\n",
              "      <td>NaN</td>\n",
              "      <td>NaN</td>\n",
              "      <td>NaN</td>\n",
              "      <td>NaN</td>\n",
              "      <td>NaN</td>\n",
              "      <td>NaN</td>\n",
              "    </tr>\n",
              "    <tr>\n",
              "      <th>1</th>\n",
              "      <td></td>\n",
              "      <td>3.1 Potatoes</td>\n",
              "      <td>NaN</td>\n",
              "      <td>NaN</td>\n",
              "      <td>NaN</td>\n",
              "      <td>NaN</td>\n",
              "      <td>NaN</td>\n",
              "      <td>NaN</td>\n",
              "      <td>NaN</td>\n",
              "      <td>NaN</td>\n",
              "      <td>...</td>\n",
              "      <td>NaN</td>\n",
              "      <td>NaN</td>\n",
              "      <td>NaN</td>\n",
              "      <td>NaN</td>\n",
              "      <td>NaN</td>\n",
              "      <td>NaN</td>\n",
              "      <td>NaN</td>\n",
              "      <td>NaN</td>\n",
              "      <td>NaN</td>\n",
              "      <td>NaN</td>\n",
              "    </tr>\n",
              "    <tr>\n",
              "      <th>2</th>\n",
              "      <td></td>\n",
              "      <td></td>\n",
              "      <td>Total</td>\n",
              "      <td>9924</td>\n",
              "      <td>8517</td>\n",
              "      <td>8087</td>\n",
              "      <td>7482</td>\n",
              "      <td>6421</td>\n",
              "      <td>6085</td>\n",
              "      <td>6006.0</td>\n",
              "      <td>...</td>\n",
              "      <td>1929</td>\n",
              "      <td>1857</td>\n",
              "      <td>1469</td>\n",
              "      <td>1680</td>\n",
              "      <td>1754</td>\n",
              "      <td>1634</td>\n",
              "      <td>1612</td>\n",
              "      <td>1694</td>\n",
              "      <td>1596</td>\n",
              "      <td>1489</td>\n",
              "    </tr>\n",
              "    <tr>\n",
              "      <th>3</th>\n",
              "      <td></td>\n",
              "      <td></td>\n",
              "      <td>Less than 10.0 hectares</td>\n",
              "      <td>1935</td>\n",
              "      <td>1593</td>\n",
              "      <td>1313</td>\n",
              "      <td>1249</td>\n",
              "      <td>962</td>\n",
              "      <td>904</td>\n",
              "      <td>983.0</td>\n",
              "      <td>...</td>\n",
              "      <td>289</td>\n",
              "      <td>159</td>\n",
              "      <td>120</td>\n",
              "      <td>175</td>\n",
              "      <td>232</td>\n",
              "      <td>189</td>\n",
              "      <td>153</td>\n",
              "      <td>152</td>\n",
              "      <td>149</td>\n",
              "      <td>152</td>\n",
              "    </tr>\n",
              "    <tr>\n",
              "      <th>4</th>\n",
              "      <td></td>\n",
              "      <td></td>\n",
              "      <td>10.0 - 19.9 hectares</td>\n",
              "      <td>2572</td>\n",
              "      <td>2169</td>\n",
              "      <td>1962</td>\n",
              "      <td>1709</td>\n",
              "      <td>1464</td>\n",
              "      <td>1290</td>\n",
              "      <td>1286.0</td>\n",
              "      <td>...</td>\n",
              "      <td>224</td>\n",
              "      <td>243</td>\n",
              "      <td>103</td>\n",
              "      <td>174</td>\n",
              "      <td>127</td>\n",
              "      <td>109</td>\n",
              "      <td>157</td>\n",
              "      <td>142</td>\n",
              "      <td>122</td>\n",
              "      <td>120</td>\n",
              "    </tr>\n",
              "  </tbody>\n",
              "</table>\n",
              "<p>5 rows × 44 columns</p>\n",
              "</div>\n",
              "    <div class=\"colab-df-buttons\">\n",
              "\n",
              "  <div class=\"colab-df-container\">\n",
              "    <button class=\"colab-df-convert\" onclick=\"convertToInteractive('df-cbd68344-4852-49b2-956a-e7694d9710e5')\"\n",
              "            title=\"Convert this dataframe to an interactive table.\"\n",
              "            style=\"display:none;\">\n",
              "\n",
              "  <svg xmlns=\"http://www.w3.org/2000/svg\" height=\"24px\" viewBox=\"0 -960 960 960\">\n",
              "    <path d=\"M120-120v-720h720v720H120Zm60-500h600v-160H180v160Zm220 220h160v-160H400v160Zm0 220h160v-160H400v160ZM180-400h160v-160H180v160Zm440 0h160v-160H620v160ZM180-180h160v-160H180v160Zm440 0h160v-160H620v160Z\"/>\n",
              "  </svg>\n",
              "    </button>\n",
              "\n",
              "  <style>\n",
              "    .colab-df-container {\n",
              "      display:flex;\n",
              "      gap: 12px;\n",
              "    }\n",
              "\n",
              "    .colab-df-convert {\n",
              "      background-color: #E8F0FE;\n",
              "      border: none;\n",
              "      border-radius: 50%;\n",
              "      cursor: pointer;\n",
              "      display: none;\n",
              "      fill: #1967D2;\n",
              "      height: 32px;\n",
              "      padding: 0 0 0 0;\n",
              "      width: 32px;\n",
              "    }\n",
              "\n",
              "    .colab-df-convert:hover {\n",
              "      background-color: #E2EBFA;\n",
              "      box-shadow: 0px 1px 2px rgba(60, 64, 67, 0.3), 0px 1px 3px 1px rgba(60, 64, 67, 0.15);\n",
              "      fill: #174EA6;\n",
              "    }\n",
              "\n",
              "    .colab-df-buttons div {\n",
              "      margin-bottom: 4px;\n",
              "    }\n",
              "\n",
              "    [theme=dark] .colab-df-convert {\n",
              "      background-color: #3B4455;\n",
              "      fill: #D2E3FC;\n",
              "    }\n",
              "\n",
              "    [theme=dark] .colab-df-convert:hover {\n",
              "      background-color: #434B5C;\n",
              "      box-shadow: 0px 1px 3px 1px rgba(0, 0, 0, 0.15);\n",
              "      filter: drop-shadow(0px 1px 2px rgba(0, 0, 0, 0.3));\n",
              "      fill: #FFFFFF;\n",
              "    }\n",
              "  </style>\n",
              "\n",
              "    <script>\n",
              "      const buttonEl =\n",
              "        document.querySelector('#df-cbd68344-4852-49b2-956a-e7694d9710e5 button.colab-df-convert');\n",
              "      buttonEl.style.display =\n",
              "        google.colab.kernel.accessAllowed ? 'block' : 'none';\n",
              "\n",
              "      async function convertToInteractive(key) {\n",
              "        const element = document.querySelector('#df-cbd68344-4852-49b2-956a-e7694d9710e5');\n",
              "        const dataTable =\n",
              "          await google.colab.kernel.invokeFunction('convertToInteractive',\n",
              "                                                    [key], {});\n",
              "        if (!dataTable) return;\n",
              "\n",
              "        const docLinkHtml = 'Like what you see? Visit the ' +\n",
              "          '<a target=\"_blank\" href=https://colab.research.google.com/notebooks/data_table.ipynb>data table notebook</a>'\n",
              "          + ' to learn more about interactive tables.';\n",
              "        element.innerHTML = '';\n",
              "        dataTable['output_type'] = 'display_data';\n",
              "        await google.colab.output.renderOutput(dataTable, element);\n",
              "        const docLink = document.createElement('div');\n",
              "        docLink.innerHTML = docLinkHtml;\n",
              "        element.appendChild(docLink);\n",
              "      }\n",
              "    </script>\n",
              "  </div>\n",
              "\n",
              "\n",
              "<div id=\"df-8192da8e-e69c-4db8-a4be-549350c7c828\">\n",
              "  <button class=\"colab-df-quickchart\" onclick=\"quickchart('df-8192da8e-e69c-4db8-a4be-549350c7c828')\"\n",
              "            title=\"Suggest charts\"\n",
              "            style=\"display:none;\">\n",
              "\n",
              "<svg xmlns=\"http://www.w3.org/2000/svg\" height=\"24px\"viewBox=\"0 0 24 24\"\n",
              "     width=\"24px\">\n",
              "    <g>\n",
              "        <path d=\"M19 3H5c-1.1 0-2 .9-2 2v14c0 1.1.9 2 2 2h14c1.1 0 2-.9 2-2V5c0-1.1-.9-2-2-2zM9 17H7v-7h2v7zm4 0h-2V7h2v10zm4 0h-2v-4h2v4z\"/>\n",
              "    </g>\n",
              "</svg>\n",
              "  </button>\n",
              "\n",
              "<style>\n",
              "  .colab-df-quickchart {\n",
              "      --bg-color: #E8F0FE;\n",
              "      --fill-color: #1967D2;\n",
              "      --hover-bg-color: #E2EBFA;\n",
              "      --hover-fill-color: #174EA6;\n",
              "      --disabled-fill-color: #AAA;\n",
              "      --disabled-bg-color: #DDD;\n",
              "  }\n",
              "\n",
              "  [theme=dark] .colab-df-quickchart {\n",
              "      --bg-color: #3B4455;\n",
              "      --fill-color: #D2E3FC;\n",
              "      --hover-bg-color: #434B5C;\n",
              "      --hover-fill-color: #FFFFFF;\n",
              "      --disabled-bg-color: #3B4455;\n",
              "      --disabled-fill-color: #666;\n",
              "  }\n",
              "\n",
              "  .colab-df-quickchart {\n",
              "    background-color: var(--bg-color);\n",
              "    border: none;\n",
              "    border-radius: 50%;\n",
              "    cursor: pointer;\n",
              "    display: none;\n",
              "    fill: var(--fill-color);\n",
              "    height: 32px;\n",
              "    padding: 0;\n",
              "    width: 32px;\n",
              "  }\n",
              "\n",
              "  .colab-df-quickchart:hover {\n",
              "    background-color: var(--hover-bg-color);\n",
              "    box-shadow: 0 1px 2px rgba(60, 64, 67, 0.3), 0 1px 3px 1px rgba(60, 64, 67, 0.15);\n",
              "    fill: var(--button-hover-fill-color);\n",
              "  }\n",
              "\n",
              "  .colab-df-quickchart-complete:disabled,\n",
              "  .colab-df-quickchart-complete:disabled:hover {\n",
              "    background-color: var(--disabled-bg-color);\n",
              "    fill: var(--disabled-fill-color);\n",
              "    box-shadow: none;\n",
              "  }\n",
              "\n",
              "  .colab-df-spinner {\n",
              "    border: 2px solid var(--fill-color);\n",
              "    border-color: transparent;\n",
              "    border-bottom-color: var(--fill-color);\n",
              "    animation:\n",
              "      spin 1s steps(1) infinite;\n",
              "  }\n",
              "\n",
              "  @keyframes spin {\n",
              "    0% {\n",
              "      border-color: transparent;\n",
              "      border-bottom-color: var(--fill-color);\n",
              "      border-left-color: var(--fill-color);\n",
              "    }\n",
              "    20% {\n",
              "      border-color: transparent;\n",
              "      border-left-color: var(--fill-color);\n",
              "      border-top-color: var(--fill-color);\n",
              "    }\n",
              "    30% {\n",
              "      border-color: transparent;\n",
              "      border-left-color: var(--fill-color);\n",
              "      border-top-color: var(--fill-color);\n",
              "      border-right-color: var(--fill-color);\n",
              "    }\n",
              "    40% {\n",
              "      border-color: transparent;\n",
              "      border-right-color: var(--fill-color);\n",
              "      border-top-color: var(--fill-color);\n",
              "    }\n",
              "    60% {\n",
              "      border-color: transparent;\n",
              "      border-right-color: var(--fill-color);\n",
              "    }\n",
              "    80% {\n",
              "      border-color: transparent;\n",
              "      border-right-color: var(--fill-color);\n",
              "      border-bottom-color: var(--fill-color);\n",
              "    }\n",
              "    90% {\n",
              "      border-color: transparent;\n",
              "      border-bottom-color: var(--fill-color);\n",
              "    }\n",
              "  }\n",
              "</style>\n",
              "\n",
              "  <script>\n",
              "    async function quickchart(key) {\n",
              "      const quickchartButtonEl =\n",
              "        document.querySelector('#' + key + ' button');\n",
              "      quickchartButtonEl.disabled = true;  // To prevent multiple clicks.\n",
              "      quickchartButtonEl.classList.add('colab-df-spinner');\n",
              "      try {\n",
              "        const charts = await google.colab.kernel.invokeFunction(\n",
              "            'suggestCharts', [key], {});\n",
              "      } catch (error) {\n",
              "        console.error('Error during call to suggestCharts:', error);\n",
              "      }\n",
              "      quickchartButtonEl.classList.remove('colab-df-spinner');\n",
              "      quickchartButtonEl.classList.add('colab-df-quickchart-complete');\n",
              "    }\n",
              "    (() => {\n",
              "      let quickchartButtonEl =\n",
              "        document.querySelector('#df-8192da8e-e69c-4db8-a4be-549350c7c828 button');\n",
              "      quickchartButtonEl.style.display =\n",
              "        google.colab.kernel.accessAllowed ? 'block' : 'none';\n",
              "    })();\n",
              "  </script>\n",
              "</div>\n",
              "    </div>\n",
              "  </div>\n"
            ],
            "application/vnd.google.colaboratory.intrinsic+json": {
              "type": "dataframe",
              "variable_name": "dk_crops"
            }
          },
          "metadata": {},
          "execution_count": 6
        }
      ]
    },
    {
      "cell_type": "code",
      "source": [
        "dk_crops = dk_crops.dropna()"
      ],
      "metadata": {
        "id": "qD4tawcUIWMo"
      },
      "execution_count": 7,
      "outputs": []
    },
    {
      "cell_type": "code",
      "source": [
        "dk_crops.shape"
      ],
      "metadata": {
        "colab": {
          "base_uri": "https://localhost:8080/"
        },
        "id": "HEz44wbEIjro",
        "outputId": "f7342c62-be1b-446a-9b9c-09ab4365ee02"
      },
      "execution_count": 8,
      "outputs": [
        {
          "output_type": "execute_result",
          "data": {
            "text/plain": [
              "(72, 44)"
            ]
          },
          "metadata": {},
          "execution_count": 8
        }
      ]
    },
    {
      "cell_type": "code",
      "source": [
        "s_crop_farms = dk_crops.loc[32] # farms human consumption"
      ],
      "metadata": {
        "id": "hoHilODULGNf"
      },
      "execution_count": 9,
      "outputs": []
    },
    {
      "cell_type": "code",
      "source": [
        "s_crop_ha = dk_crops.loc[73] # ha human consumption"
      ],
      "metadata": {
        "id": "yVbPIWyvNPQq"
      },
      "execution_count": 10,
      "outputs": []
    },
    {
      "cell_type": "code",
      "source": [
        "s_crop_farms = s_crop_farms.replace('..', np.nan)"
      ],
      "metadata": {
        "id": "OOHW_3_8Nwoq"
      },
      "execution_count": 11,
      "outputs": []
    },
    {
      "cell_type": "code",
      "source": [
        "s_crop_farms = s_crop_farms.iloc[3:]"
      ],
      "metadata": {
        "id": "QujyJVSjOSXo"
      },
      "execution_count": 12,
      "outputs": []
    },
    {
      "cell_type": "code",
      "source": [
        "s_crop_ha = s_crop_ha.replace('..', np.nan)"
      ],
      "metadata": {
        "id": "y06f97DLQdDO"
      },
      "execution_count": 13,
      "outputs": []
    },
    {
      "cell_type": "code",
      "source": [
        "s_crop_ha = s_crop_ha.iloc[3:]"
      ],
      "metadata": {
        "id": "DVGeN3dSPG23"
      },
      "execution_count": 14,
      "outputs": []
    },
    {
      "cell_type": "code",
      "source": [
        "dk_crops_new = pd.concat([s_crop_ha, s_crop_farms], axis=1)"
      ],
      "metadata": {
        "id": "7i5fKE77QT3n"
      },
      "execution_count": 15,
      "outputs": []
    },
    {
      "cell_type": "code",
      "source": [
        "dk_crops_new = dk_crops_new.rename(columns={73:'Area(ha)', 32:'Farms'})"
      ],
      "metadata": {
        "id": "KfgTSXNKRQd_"
      },
      "execution_count": 16,
      "outputs": []
    },
    {
      "cell_type": "code",
      "source": [
        "dk_crops_new['Area(ha)'] = dk_crops_new['Area(ha)'].astype(float)\n",
        "dk_crops_new['Farms'] = dk_crops_new['Farms'].astype(float)"
      ],
      "metadata": {
        "id": "YTiYecdMTjoE"
      },
      "execution_count": 17,
      "outputs": []
    },
    {
      "cell_type": "code",
      "source": [
        "print(dk_crops_new) # year 1982 to 2022"
      ],
      "metadata": {
        "id": "0htSmqK2_5g-",
        "colab": {
          "base_uri": "https://localhost:8080/"
        },
        "outputId": "4e66ba4d-b5f8-4202-cd4a-de163a55bf56"
      },
      "execution_count": 18,
      "outputs": [
        {
          "output_type": "stream",
          "name": "stdout",
          "text": [
            "      Area(ha)   Farms\n",
            "1982       NaN     NaN\n",
            "1983       NaN     NaN\n",
            "1984       NaN     NaN\n",
            "1985       NaN     NaN\n",
            "1986       NaN     NaN\n",
            "1987       NaN     NaN\n",
            "1988   13145.0  4419.0\n",
            "1989   11015.0  3376.0\n",
            "1990   10999.0  3141.0\n",
            "1991   10934.0  2738.0\n",
            "1992   13485.0  2929.0\n",
            "1993   12137.0  2644.0\n",
            "1994    9782.0  2295.0\n",
            "1995       NaN     NaN\n",
            "1996   11690.0  3061.0\n",
            "1997   10096.0  1706.0\n",
            "1998    8705.0  1732.0\n",
            "1999   10965.0  1859.0\n",
            "2000   11524.0  1903.0\n",
            "2001   11809.0  1733.0\n",
            "2002   13754.0  1708.0\n",
            "2003   12226.0  1659.0\n",
            "2004   16578.0  1995.0\n",
            "2005   16278.0  1868.0\n",
            "2006   15210.0  1646.0\n",
            "2007   15689.0  1643.0\n",
            "2008   17981.0  1692.0\n",
            "2009   15787.0  1527.0\n",
            "2010   16312.0  1523.0\n",
            "2011   16433.0  1513.0\n",
            "2012   13764.0  1352.0\n",
            "2013   14218.0  1464.0\n",
            "2014   15753.0  1382.0\n",
            "2015   13716.0  1018.0\n",
            "2016   12793.0  1198.0\n",
            "2017   13230.0  1172.0\n",
            "2018   12801.0  1120.0\n",
            "2019   11903.0   994.0\n",
            "2020   11170.0   970.0\n",
            "2021    6058.0   838.0\n",
            "2022    6811.0   781.0\n"
          ]
        }
      ]
    },
    {
      "cell_type": "markdown",
      "source": [
        "#### Consumption"
      ],
      "metadata": {
        "id": "70TJFcbaMfFt"
      }
    },
    {
      "cell_type": "code",
      "source": [
        "dk_consum = pd.read_csv('/content/drive/MyDrive/Data-Analyst/Colab-Notebooks/potatoes-data/stat-dk_potato_consumption-1990-2010.csv', header=1)"
      ],
      "metadata": {
        "id": "EiNHYszEMkXT"
      },
      "execution_count": 88,
      "outputs": []
    },
    {
      "cell_type": "code",
      "source": [
        "dk_consum = dk_consum.loc[1:2]"
      ],
      "metadata": {
        "id": "J6-ZGmMbNGGv"
      },
      "execution_count": 89,
      "outputs": []
    },
    {
      "cell_type": "code",
      "source": [
        "dk_consum_total = dk_consum.loc[1]"
      ],
      "metadata": {
        "id": "Up8VVCcNNa_W"
      },
      "execution_count": 90,
      "outputs": []
    },
    {
      "cell_type": "code",
      "source": [
        "dk_consum_total = dk_consum_total.iloc[2:]"
      ],
      "metadata": {
        "id": "9vt7oLD-N-_Q"
      },
      "execution_count": 91,
      "outputs": []
    },
    {
      "cell_type": "code",
      "source": [
        "dk_consum_total = dk_consum_total.replace('..', np.nan)"
      ],
      "metadata": {
        "id": "1OpDPfxmQBXp"
      },
      "execution_count": 92,
      "outputs": []
    },
    {
      "cell_type": "code",
      "source": [
        "dk_consum_total.name = 'DK: Consumption Total (in t)'"
      ],
      "metadata": {
        "id": "4Y6GsD7VQTKD"
      },
      "execution_count": 93,
      "outputs": []
    },
    {
      "cell_type": "code",
      "source": [
        "dk_consum_total = dk_consum_total * 1000"
      ],
      "metadata": {
        "id": "7sV3_h6PQqCR"
      },
      "execution_count": 94,
      "outputs": []
    },
    {
      "cell_type": "code",
      "source": [
        "dk_consum_per = dk_consum.loc[2]"
      ],
      "metadata": {
        "id": "5mfqX0r1N0mT"
      },
      "execution_count": 109,
      "outputs": []
    },
    {
      "cell_type": "code",
      "source": [
        "dk_consum_per = dk_consum_per.iloc[2:]"
      ],
      "metadata": {
        "id": "wUo8HCADOMjX"
      },
      "execution_count": 110,
      "outputs": []
    },
    {
      "cell_type": "code",
      "source": [
        "dk_consum_per = dk_consum_per.replace('..', np.nan)"
      ],
      "metadata": {
        "id": "wffeoZoSQGRn"
      },
      "execution_count": 111,
      "outputs": []
    },
    {
      "cell_type": "code",
      "source": [
        "dk_consum_per.name = 'DK: Consumption per person (in kg)'"
      ],
      "metadata": {
        "id": "-vgOsiMrQbmx"
      },
      "execution_count": 112,
      "outputs": []
    },
    {
      "cell_type": "code",
      "source": [
        "print(dk_consum_per)"
      ],
      "metadata": {
        "id": "EqmgYqkFM75C",
        "colab": {
          "base_uri": "https://localhost:8080/"
        },
        "outputId": "f5f7c88a-1452-4e6c-8daa-7572099c9624"
      },
      "execution_count": 113,
      "outputs": [
        {
          "output_type": "stream",
          "name": "stdout",
          "text": [
            "1990    56.9\n",
            "1991    56.9\n",
            "1992    56.9\n",
            "1993    56.9\n",
            "1994    59.9\n",
            "1995    56.9\n",
            "1996    56.9\n",
            "1997    56.9\n",
            "1998    56.9\n",
            "1999    56.9\n",
            "2000    56.9\n",
            "2001    56.9\n",
            "2002    56.9\n",
            "2003    56.9\n",
            "2004    55.0\n",
            "2005    55.0\n",
            "2006    55.0\n",
            "2007    54.8\n",
            "2008    55.0\n",
            "2009    55.1\n",
            "2010    40.0\n",
            "2011     NaN\n",
            "2012     NaN\n",
            "Name: DK: Consumption per person (in kg), dtype: float64\n"
          ]
        }
      ]
    },
    {
      "cell_type": "markdown",
      "source": [
        "### Germany"
      ],
      "metadata": {
        "id": "RhESLNCrZy0E"
      }
    },
    {
      "cell_type": "markdown",
      "source": [
        "####Agriculture"
      ],
      "metadata": {
        "id": "A80o6_6_TMvw"
      }
    },
    {
      "cell_type": "code",
      "source": [
        "# CSV for 2013 to 2023\n",
        "\n",
        "de_crops_b = pd.read_csv('/content/drive/MyDrive/Data-Analyst/Colab-Notebooks/potatoes-data/stat-de_area-under-cultivation_crops-2013-2023.csv',\n",
        "                         header=6)"
      ],
      "metadata": {
        "id": "VyakdkyDZ0w9"
      },
      "execution_count": 31,
      "outputs": []
    },
    {
      "cell_type": "code",
      "source": [
        "s_crop_b_all = de_crops_b.iloc[20]"
      ],
      "metadata": {
        "id": "4wcPfJDQaaPe"
      },
      "execution_count": 32,
      "outputs": []
    },
    {
      "cell_type": "code",
      "source": [
        "s_crop_b_all = s_crop_b_all.iloc[1:]"
      ],
      "metadata": {
        "id": "rvJC6twvcpdl"
      },
      "execution_count": 33,
      "outputs": []
    },
    {
      "cell_type": "code",
      "source": [
        "years_b = np.arange(2013, 2024, 1)"
      ],
      "metadata": {
        "id": "q44pdPSVdM_L"
      },
      "execution_count": 34,
      "outputs": []
    },
    {
      "cell_type": "code",
      "source": [
        "years_b = years_b.astype(str)"
      ],
      "metadata": {
        "id": "9fhtYmfOgDYK"
      },
      "execution_count": 35,
      "outputs": []
    },
    {
      "cell_type": "code",
      "source": [
        "s_crop_b_ha = s_crop_b_all[years_b]"
      ],
      "metadata": {
        "id": "VhkvXnuNem7Z"
      },
      "execution_count": 36,
      "outputs": []
    },
    {
      "cell_type": "code",
      "source": [
        "# CSV for 1950 to 2009\n",
        "\n",
        "de_crops_a = pd.read_csv('/content/drive/MyDrive/Data-Analyst/Colab-Notebooks/potatoes-data/stat-de_area-under-cultivation_crops-1950-2009.csv',\n",
        "                         header=7)"
      ],
      "metadata": {
        "id": "DUFYhWlzfN-C"
      },
      "execution_count": 37,
      "outputs": []
    },
    {
      "cell_type": "code",
      "source": [
        "s_crop_a_all = de_crops_a.iloc[26]"
      ],
      "metadata": {
        "id": "VIWOilXXhd9S"
      },
      "execution_count": 38,
      "outputs": []
    },
    {
      "cell_type": "code",
      "source": [
        "s_crop_a_all = s_crop_a_all.iloc[1:]"
      ],
      "metadata": {
        "id": "GzHEYPsbhfjl"
      },
      "execution_count": 39,
      "outputs": []
    },
    {
      "cell_type": "code",
      "source": [
        "s_crop_a_ha = s_crop_a_all"
      ],
      "metadata": {
        "id": "ju9sQZHjh12s"
      },
      "execution_count": 40,
      "outputs": []
    },
    {
      "cell_type": "code",
      "source": [
        "de_crops_new = pd.concat([s_crop_a_ha, s_crop_b_ha])"
      ],
      "metadata": {
        "id": "PbvKgbb_ke7p"
      },
      "execution_count": 41,
      "outputs": []
    },
    {
      "cell_type": "code",
      "source": [
        "de_crops_new.name = 'Area(ha)'"
      ],
      "metadata": {
        "id": "uGAbWuphlAJi"
      },
      "execution_count": 42,
      "outputs": []
    },
    {
      "cell_type": "code",
      "source": [
        "de_crops_new = de_crops_new.astype(int)"
      ],
      "metadata": {
        "id": "ckvg4uJYliID"
      },
      "execution_count": 43,
      "outputs": []
    },
    {
      "cell_type": "code",
      "source": [
        "print(de_crops_new) # year 1950 to 2023"
      ],
      "metadata": {
        "id": "kPGUkkJ0l8Yx",
        "colab": {
          "base_uri": "https://localhost:8080/"
        },
        "outputId": "9bc7b1b7-3413-4ed6-dd01-330011c22b78"
      },
      "execution_count": 44,
      "outputs": [
        {
          "output_type": "stream",
          "name": "stdout",
          "text": [
            "1950    1154811\n",
            "1951    1130832\n",
            "1952    1161445\n",
            "1953    1178183\n",
            "1954    1204964\n",
            "         ...   \n",
            "2019     271600\n",
            "2020     273500\n",
            "2021     258300\n",
            "2022     266400\n",
            "2023     262600\n",
            "Name: Area(ha), Length: 71, dtype: int64\n"
          ]
        }
      ]
    },
    {
      "cell_type": "markdown",
      "source": [
        "####Consumption"
      ],
      "metadata": {
        "id": "zowMSqTYTRfZ"
      }
    },
    {
      "cell_type": "code",
      "source": [
        "de_consum = pd.read_csv('/content/drive/MyDrive/Data-Analyst/Colab-Notebooks/potatoes-data/Versorgung-Kartoffeln_22-23_nahrungsverbrauch_new.csv', header=0)"
      ],
      "metadata": {
        "id": "NUybziQvTVRQ"
      },
      "execution_count": 45,
      "outputs": []
    },
    {
      "cell_type": "code",
      "source": [
        "de_consum_total = de_consum.loc[0]\n",
        "de_consum_total = de_consum_total.iloc[1:]\n",
        "de_consum_total = de_consum_total.str.replace(' ','')\n",
        "de_consum_total = de_consum_total.astype(int)\n",
        "de_consum_total = de_consum_total * 1000\n",
        "de_consum_total.name = 'DE: Consumption Total (in t)'"
      ],
      "metadata": {
        "id": "SD_dqemzTrXs"
      },
      "execution_count": 46,
      "outputs": []
    },
    {
      "cell_type": "code",
      "source": [
        "de_consum_per = de_consum.loc[1]\n",
        "de_consum_per = de_consum_per.iloc[1:]\n",
        "de_consum_per = de_consum_per.str.replace(',','.')\n",
        "de_consum_per = de_consum_per.astype(float)\n",
        "\n",
        "de_consum_per.name = 'DE: Consumption per person (in kg)'"
      ],
      "metadata": {
        "id": "dABxlhiDT7cc"
      },
      "execution_count": 47,
      "outputs": []
    },
    {
      "cell_type": "code",
      "source": [
        "print(de_consum_per)"
      ],
      "metadata": {
        "id": "O2QrCfYHXu1w",
        "colab": {
          "base_uri": "https://localhost:8080/"
        },
        "outputId": "6280a975-9d99-4e5b-b8b9-afb929ec581a"
      },
      "execution_count": 48,
      "outputs": [
        {
          "output_type": "stream",
          "name": "stdout",
          "text": [
            "2004    71.1\n",
            "2010    57.9\n",
            "2011    65.7\n",
            "2012    59.8\n",
            "2013    58.1\n",
            "2014    58.0\n",
            "2015    57.5\n",
            "2016    57.9\n",
            "2017    60.4\n",
            "2018    55.4\n",
            "2019    57.2\n",
            "2020    59.6\n",
            "2021    56.1\n",
            "2022    54.1\n",
            "Name: DE: Consumption per person (in kg), dtype: float64\n"
          ]
        }
      ]
    },
    {
      "cell_type": "markdown",
      "source": [
        "##Area Comparison"
      ],
      "metadata": {
        "id": "71TZyCf9mHwK"
      }
    },
    {
      "cell_type": "code",
      "source": [
        "# join DK and DE area(ha) and create column with area(ha) / area(country)"
      ],
      "metadata": {
        "id": "Wrox3jNZmlRa"
      },
      "execution_count": 49,
      "outputs": []
    },
    {
      "cell_type": "code",
      "source": [
        "crops_area = pd.concat([de_crops_new, dk_crops_new['Area(ha)']], axis=1)"
      ],
      "metadata": {
        "id": "TUmPqLGeAHsu"
      },
      "execution_count": 131,
      "outputs": []
    },
    {
      "cell_type": "code",
      "source": [
        "crops_area.columns = ['DE: Area (ha)', 'DK: Area (ha)']"
      ],
      "metadata": {
        "id": "pXqMmHPaAe0Z"
      },
      "execution_count": 132,
      "outputs": []
    },
    {
      "cell_type": "code",
      "source": [
        "crops_area = crops_area.sort_index()"
      ],
      "metadata": {
        "id": "O4kjXEnpCRPz"
      },
      "execution_count": 133,
      "outputs": []
    },
    {
      "cell_type": "code",
      "source": [
        "# add values 2010-2012\n",
        "\n",
        "de_2009 = crops_area['DE: Area (ha)'].loc['2009']\n",
        "de_2013 = crops_area['DE: Area (ha)'].loc['2013']\n",
        "\n",
        "\n",
        "de_2010 = de_2009 - (de_2009 - de_2013) / 4\n",
        "de_2011 = de_2010 - (de_2009 - de_2013) / 4\n",
        "de_2012 = de_2011 - (de_2009 - de_2013) / 4\n",
        "\n",
        "crops_area['DE: Area (ha)'].loc['2010'] = de_2010\n",
        "crops_area['DE: Area (ha)'].loc['2011'] = de_2011\n",
        "crops_area['DE: Area (ha)'].loc['2012'] = de_2012\n"
      ],
      "metadata": {
        "id": "NRbN7KFkgy8K"
      },
      "execution_count": 158,
      "outputs": []
    },
    {
      "cell_type": "code",
      "source": [
        "de_ha = 35759500"
      ],
      "metadata": {
        "id": "i55j8LfyC-QQ"
      },
      "execution_count": 134,
      "outputs": []
    },
    {
      "cell_type": "code",
      "source": [
        "dk_ha = 4295400"
      ],
      "metadata": {
        "id": "sQ3DWfUSDYwW"
      },
      "execution_count": 135,
      "outputs": []
    },
    {
      "cell_type": "code",
      "source": [
        "crops_area['DE: Area / Country size in %'] = crops_area['DE: Area (ha)'] / de_ha * 100"
      ],
      "metadata": {
        "id": "MMsq0EabCf59"
      },
      "execution_count": 159,
      "outputs": []
    },
    {
      "cell_type": "code",
      "source": [
        "crops_area['DK: Area / Country size in %'] = crops_area['DK: Area (ha)'] / dk_ha * 100"
      ],
      "metadata": {
        "id": "dtYL9RvGDuCV"
      },
      "execution_count": 138,
      "outputs": []
    },
    {
      "cell_type": "code",
      "source": [
        "print(crops_area.columns)"
      ],
      "metadata": {
        "colab": {
          "base_uri": "https://localhost:8080/"
        },
        "id": "3mS24C6TAlxB",
        "outputId": "4943b849-272d-4982-b47b-8fc81dfacc56"
      },
      "execution_count": 157,
      "outputs": [
        {
          "output_type": "stream",
          "name": "stdout",
          "text": [
            "      DE: Area (ha)  DK: Area (ha)  DE: Area / Country size in %  \\\n",
            "1950      1154811.0            NaN                      3.229382   \n",
            "1951      1130832.0            NaN                      3.162326   \n",
            "1952      1161445.0            NaN                      3.247934   \n",
            "1953      1178183.0            NaN                      3.294741   \n",
            "1954      1204964.0            NaN                      3.369633   \n",
            "...             ...            ...                           ...   \n",
            "2019       271600.0        11903.0                      0.759518   \n",
            "2020       273500.0        11170.0                      0.764832   \n",
            "2021       258300.0         6058.0                      0.722326   \n",
            "2022       266400.0         6811.0                      0.744977   \n",
            "2023       262600.0            NaN                      0.734350   \n",
            "\n",
            "      DK: Area / Country size in %  \n",
            "1950                           NaN  \n",
            "1951                           NaN  \n",
            "1952                           NaN  \n",
            "1953                           NaN  \n",
            "1954                           NaN  \n",
            "...                            ...  \n",
            "2019                      0.277110  \n",
            "2020                      0.260046  \n",
            "2021                      0.141035  \n",
            "2022                      0.158565  \n",
            "2023                           NaN  \n",
            "\n",
            "[74 rows x 4 columns]\n"
          ]
        }
      ]
    },
    {
      "cell_type": "markdown",
      "source": [
        "## Final Dataframe"
      ],
      "metadata": {
        "id": "zRySBs8yCEYi"
      }
    },
    {
      "cell_type": "code",
      "source": [
        "potatoes = pd.concat([crops_area['DE: Area (ha)'], crops_area['DE: Area / Country size in %'], de_consum_total, de_consum_per, crops_area['DK: Area (ha)'], crops_area['DK: Area / Country size in %'], dk_consum_total, dk_consum_per], axis=1)"
      ],
      "metadata": {
        "id": "YgMkQYexRoYd"
      },
      "execution_count": 160,
      "outputs": []
    },
    {
      "cell_type": "code",
      "source": [
        "print(potatoes.loc['1991':'2022']) # timeframe with most available values"
      ],
      "metadata": {
        "id": "sfZ88TygR3LK"
      },
      "execution_count": null,
      "outputs": []
    },
    {
      "cell_type": "code",
      "source": [
        "potatoes.columns"
      ],
      "metadata": {
        "colab": {
          "base_uri": "https://localhost:8080/"
        },
        "id": "056QnpFovBI0",
        "outputId": "29ee23a7-a91f-4769-a7fd-b39ef929e26a"
      },
      "execution_count": 234,
      "outputs": [
        {
          "output_type": "execute_result",
          "data": {
            "text/plain": [
              "Index(['DE: Area (ha)', 'DE: Area / Country size in %',\n",
              "       'DE: Consumption Total (in t)', 'DE: Consumption per person (in kg)',\n",
              "       'DK: Area (ha)', 'DK: Area / Country size in %',\n",
              "       'DK: Consumption Total (in t)', 'DK: Consumption per person (in kg)'],\n",
              "      dtype='object')"
            ]
          },
          "metadata": {},
          "execution_count": 234
        }
      ]
    },
    {
      "cell_type": "code",
      "source": [
        "potatoes.to_csv('potatoes.csv')"
      ],
      "metadata": {
        "id": "jR8A8DoXYxhg"
      },
      "execution_count": 163,
      "outputs": []
    },
    {
      "cell_type": "markdown",
      "source": [
        "---\n",
        "# Visualisations\n",
        "\n",
        "---"
      ],
      "metadata": {
        "id": "tfxXQYGWjDD3"
      }
    },
    {
      "cell_type": "code",
      "source": [
        "import matplotlib.pyplot as plt\n",
        "\n",
        "%matplotlib inline"
      ],
      "metadata": {
        "id": "noRKpZEskDnU"
      },
      "execution_count": 269,
      "outputs": []
    },
    {
      "cell_type": "code",
      "source": [
        "# Area comparison 1991 - 2022\n",
        "\n",
        "potatoes.loc['1991':'2022'].plot(kind='barh',\n",
        "                                 use_index=True,\n",
        "                                 stacked=True,\n",
        "                                 width=0.8,\n",
        "                                 y=['DE: Area / Country size in %', 'DK: Area / Country size in %'],\n",
        "                                 color=['black', 'white'],\n",
        "                                 edgecolor=['black'],\n",
        "                                 hatch='///',\n",
        "                                 figsize=(9, 10))"
      ],
      "metadata": {
        "colab": {
          "base_uri": "https://localhost:8080/",
          "height": 848
        },
        "id": "ssHIwUTnjckk",
        "outputId": "0f23cc0c-5303-47d5-8c94-bb1bc382fa9a"
      },
      "execution_count": 231,
      "outputs": [
        {
          "output_type": "execute_result",
          "data": {
            "text/plain": [
              "<Axes: >"
            ]
          },
          "metadata": {},
          "execution_count": 231
        },
        {
          "output_type": "display_data",
          "data": {
            "text/plain": [
              "<Figure size 900x1000 with 1 Axes>"
            ],
            "image/png": "[encoded data removed]"
          },
          "metadata": {}
        }
      ]
    },
    {
      "cell_type": "code",
      "source": [
        "# Consumption comparison 2010\n",
        "\n",
        "potatoes.loc['2010':'2010'].plot(kind='bar',\n",
        "                                 use_index=True,\n",
        "                                 width=0.8,\n",
        "                                 y=['DE: Consumption per person (in kg)', 'DK: Consumption per person (in kg)'],\n",
        "                                 color=['black', 'white'],\n",
        "                                 edgecolor=['black'],\n",
        "                                 hatch='///',\n",
        "                                 figsize=(9, 5))"
      ],
      "metadata": {
        "colab": {
          "base_uri": "https://localhost:8080/",
          "height": 485
        },
        "id": "40uY5TnAjMAK",
        "outputId": "801c4398-9d8e-4f08-c32b-6ee9a3db08cb"
      },
      "execution_count": 247,
      "outputs": [
        {
          "output_type": "execute_result",
          "data": {
            "text/plain": [
              "<Axes: >"
            ]
          },
          "metadata": {},
          "execution_count": 247
        },
        {
          "output_type": "display_data",
          "data": {
            "text/plain": [
              "<Figure size 900x500 with 1 Axes>"
            ],
            "image/png": "[encoded data removed]"
          },
          "metadata": {}
        }
      ]
    },
    {
      "cell_type": "code",
      "source": [
        "# DE: Consumption over time (2010 - 2022)\n",
        "\n",
        "potatoes.loc['2010':'2022'].plot(kind='line',\n",
        "                                 use_index=True,\n",
        "                                 y=['DE: Consumption per person (in kg)'],\n",
        "                                 color=['black'],\n",
        "                                 ylim=(35,70),\n",
        "                                 figsize=(9, 5))"
      ],
      "metadata": {
        "colab": {
          "base_uri": "https://localhost:8080/",
          "height": 469
        },
        "id": "eFxJndtHu2xq",
        "outputId": "34f24b64-4232-4805-8988-3742292348be"
      },
      "execution_count": 267,
      "outputs": [
        {
          "output_type": "execute_result",
          "data": {
            "text/plain": [
              "<Axes: >"
            ]
          },
          "metadata": {},
          "execution_count": 267
        },
        {
          "output_type": "display_data",
          "data": {
            "text/plain": [
              "<Figure size 900x500 with 1 Axes>"
            ],
            "image/png": "[encoded data removed]"
          },
          "metadata": {}
        }
      ]
    },
    {
      "cell_type": "code",
      "source": [
        "# DK: Consumption over time (1991 - 2010)\n",
        "\n",
        "potatoes.loc['1991':'2010'].plot(kind='line',\n",
        "                                 use_index=True,\n",
        "                                 y=['DK: Consumption per person (in kg)'],\n",
        "                                 color=['black'],\n",
        "                                 linestyle='dashed',\n",
        "                                 ylim=(35,70),\n",
        "                                 figsize=(9, 5))"
      ],
      "metadata": {
        "colab": {
          "base_uri": "https://localhost:8080/",
          "height": 469
        },
        "id": "KlazFi25wSuz",
        "outputId": "68767baf-5da5-41b0-d68c-e100571ac1aa"
      },
      "execution_count": 268,
      "outputs": [
        {
          "output_type": "execute_result",
          "data": {
            "text/plain": [
              "<Axes: >"
            ]
          },
          "metadata": {},
          "execution_count": 268
        },
        {
          "output_type": "display_data",
          "data": {
            "text/plain": [
              "<Figure size 900x500 with 1 Axes>"
            ],
            "image/png": "[encoded data removed]"
          },
          "metadata": {}
        }
      ]
    },
    {
      "cell_type": "code",
      "source": [],
      "metadata": {
        "id": "Rm-z1Q0Yw2Nj"
      },
      "execution_count": null,
      "outputs": []
    }
  ]
}